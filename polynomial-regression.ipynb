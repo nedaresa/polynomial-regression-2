{
 "cells": [
  {
   "cell_type": "markdown",
   "metadata": {},
   "source": [
    "# Polynomial Regression - Lab"
   ]
  },
  {
   "cell_type": "markdown",
   "metadata": {},
   "source": [
    "## Introduction"
   ]
  },
  {
   "cell_type": "markdown",
   "metadata": {},
   "source": [
    "In this lab you'll practice your knowledge on adding polynomial terms to your regression model! "
   ]
  },
  {
   "cell_type": "markdown",
   "metadata": {},
   "source": [
    "## Objectives"
   ]
  },
  {
   "cell_type": "markdown",
   "metadata": {},
   "source": [
    "You will be able to:\n",
    "\n",
    "- Understand how to account for non-linear relationships between predictors and target variable using polynomial terms"
   ]
  },
  {
   "cell_type": "markdown",
   "metadata": {},
   "source": [
    "## Create the best plot using polynomials!"
   ]
  },
  {
   "cell_type": "markdown",
   "metadata": {},
   "source": [
    "Here is a plot with a clearly non-linear shape. Begin to think about what degree polynomial you believe will fit it best."
   ]
  },
  {
   "cell_type": "code",
   "execution_count": 25,
   "metadata": {},
   "outputs": [
    {
     "data": {
      "image/png": "[encoded data removed]",
      "text/plain": [
       "<Figure size 432x288 with 1 Axes>"
      ]
     },
     "metadata": {
      "needs_background": "light"
     },
     "output_type": "display_data"
    }
   ],
   "source": [
    "\n",
    "\n",
    "import numpy as np\n",
    "import matplotlib.pyplot as plt\n",
    "%matplotlib inline\n",
    "from sklearn.preprocessing import PolynomialFeatures\n",
    "from sklearn.linear_model import LinearRegression\n",
    "from sklearn.metrics import mean_squared_error, r2_score\n",
    "\n",
    "def pol(x):\n",
    "    return x * np.cos(x)\n",
    "\n",
    "x = np.linspace(0, 12, 100)\n",
    "rng = np.random.RandomState(1234)\n",
    "rng.shuffle(x)\n",
    "x = np.sort(x[:25])\n",
    "y = pol(x) + np.random.randn(25)*2\n",
    "\n",
    "plt.scatter(x, y, color='green', s=50, marker='.')\n",
    "\n",
    "plt.show();"
   ]
  },
  {
   "cell_type": "markdown",
   "metadata": {},
   "source": [
    "Now it's time to determine the optimal degree of polynomial features for a model that is fit to this data     \n",
    "- Perform a polynomial regression using `PolynomialFeatures` up until some degrees. \n",
    "- Print out and plot the $R^2$ value for each of the results. Draw conclusions with respect to which degree is best."
   ]
  },
  {
   "cell_type": "code",
   "execution_count": 32,
   "metadata": {},
   "outputs": [
    {
     "data": {
      "text/plain": [
       "[(1, 0.0005507850816238724),\n",
       " (2, 0.014190409751151378),\n",
       " (3, 0.1561042876876726),\n",
       " (4, 0.6973136707317328),\n",
       " (5, 0.7897086946887636),\n",
       " (6, 0.8767631759715137),\n",
       " (7, 0.9123603572908708),\n",
       " (8, 0.9137156359846959),\n",
       " (9, 0.913961638497408),\n",
       " (10, 0.9140196657426147),\n",
       " (11, 0.9149333847849406),\n",
       " (12, 0.9144624724632399),\n",
       " (13, 0.9143466526114775),\n",
       " (14, 0.9146504583016023),\n",
       " (15, 0.9131358664730773),\n",
       " (16, 0.9091486348781336),\n",
       " (17, 0.9044160461433591),\n",
       " (18, 0.8999336766842762),\n",
       " (19, 0.8971703239922315),\n",
       " (20, 0.8961135268611208),\n",
       " (21, 0.8954717764363787),\n",
       " (22, 0.8934314167430983),\n",
       " (23, 0.8897997918370977),\n",
       " (24, 0.8846674319521352),\n",
       " (25, 0.8781848083187298),\n",
       " (26, 0.8704650471218588),\n",
       " (27, 0.8615659315266854),\n",
       " (28, 0.7855624250492135),\n",
       " (29, 0.7702464360756022),\n",
       " (30, 0.7569189635085967),\n",
       " (31, 0.7462596071668248),\n",
       " (32, 0.7385590522968666),\n",
       " (33, 0.7336795791122551),\n",
       " (34, 0.7311555336296308),\n",
       " (35, 0.7303630127967182),\n",
       " (36, 0.7306744538709671),\n",
       " (37, 0.7315530793448594),\n",
       " (38, 0.7325866716618914),\n",
       " (39, 0.7334818691811895),\n",
       " (40, 0.7340410507024329),\n",
       " (41, 0.7341358560147138),\n",
       " (42, 0.7336848986201159),\n",
       " (43, 0.7326354235574017),\n",
       " (44, 0.6889231439504758),\n",
       " (45, 0.6822864936712463),\n",
       " (46, 0.6758483151406869),\n",
       " (47, 0.6696973378717342),\n",
       " (48, 0.6638906625854146),\n",
       " (49, 0.6584594772198585),\n",
       " (50, 0.6534151313280915),\n",
       " (51, 0.6487546542521752),\n",
       " (52, 0.6444652881334468),\n",
       " (53, 0.6405279550429491),\n",
       " (54, 0.6369197530702952),\n",
       " (55, 0.6336156654654812),\n",
       " (56, 0.6305896702384454),\n",
       " (57, 0.6278154214212668),\n",
       " (58, 0.6252666419328284),\n",
       " (59, 0.6229173277428869),\n",
       " (60, 0.6207418451756941),\n",
       " (61, 0.6187149710146143),\n",
       " (62, 0.6168119231606061),\n",
       " (63, 0.6150083754176425),\n",
       " (64, 0.6132805182179475),\n",
       " (65, 0.6116051411470405),\n",
       " (66, 0.609959701926666),\n",
       " (67, 0.6083226845589428),\n",
       " (68, 0.6066732466602645),\n",
       " (69, 0.6049922675670585),\n",
       " (70, 0.6032618336676157),\n",
       " (71, 0.6014658633617581),\n",
       " (72, 0.5995897165353653),\n",
       " (73, 0.5976204483628708),\n",
       " (74, 0.595550276771543),\n",
       " (75, 0.5933484143254062),\n",
       " (76, 0.4426946412913445),\n",
       " (77, 0.4393571800726902),\n",
       " (78, 0.4361533360006983),\n",
       " (79, 0.43308027909464575),\n",
       " (80, 0.4301348595944353),\n",
       " (81, 0.42731367118885333),\n",
       " (82, 0.42461310873715286),\n",
       " (83, 0.4220294197428768),\n",
       " (84, 0.4195587501770548),\n",
       " (85, 0.41719718448345844),\n",
       " (86, 0.4149407802917956),\n",
       " (87, 0.4127855980213505),\n",
       " (88, 0.41072772599567),\n",
       " (89, 0.4087633012865405),\n",
       " (90, 0.40688852690585176),\n",
       " (91, 0.4050996856618617),\n",
       " (92, 0.40339315112256346),\n",
       " (93, 0.4017653960334478),\n",
       " (94, 0.40021299864099025),\n",
       " (95, 0.39873264689309873),\n",
       " (96, 0.3973211410318941),\n",
       " (97, 0.39597539778429225),\n",
       " (98, 0.39469244477069065),\n",
       " (99, 0.3934694262269406)]"
      ]
     },
     "execution_count": 32,
     "metadata": {},
     "output_type": "execute_result"
    }
   ],
   "source": [
    "degrees = range(1, 100)\n",
    "\n",
    "X = x.reshape(-1, 1)\n",
    "y = pol(x) + np.random.randn(25)*2\n",
    "scores = []\n",
    "\n",
    "for degree in degrees:\n",
    "    poly_feats = PolynomialFeatures(degree=degree)\n",
    "    X_poly = poly_feats.fit_transform(X)\n",
    "    lr = LinearRegression()\n",
    "    lr.fit(X_poly, y)\n",
    "\n",
    "    scores.append((degree, lr.score(X_poly, y)))\n",
    "    \n",
    "scores"
   ]
  },
  {
   "cell_type": "code",
   "execution_count": null,
   "metadata": {},
   "outputs": [],
   "source": []
  },
  {
   "cell_type": "code",
   "execution_count": 33,
   "metadata": {
    "scrolled": true
   },
   "outputs": [
    {
     "data": {
      "text/plain": [
       "Text(0.5, 1.0, 'r2_score vs degrees')"
      ]
     },
     "execution_count": 33,
     "metadata": {},
     "output_type": "execute_result"
    },
    {
     "data": {
      "image/png": "[encoded data removed]",
      "text/plain": [
       "<Figure size 432x288 with 1 Axes>"
      ]
     },
     "metadata": {
      "needs_background": "light"
     },
     "output_type": "display_data"
    }
   ],
   "source": [
    "a = [i[0] for i in scores]\n",
    "b = [i[1] for i in scores]\n",
    "\n",
    "plt.plot(a,b);\n",
    "plt.xlabel('degrees')\n",
    "plt.ylabel('r2_score')\n",
    "plt.title('r2_score vs degrees')"
   ]
  },
  {
   "cell_type": "code",
   "execution_count": 34,
   "metadata": {},
   "outputs": [
    {
     "name": "stdout",
     "output_type": "stream",
     "text": [
      "Using polynomial regression and no splitting for train and test, the optimal degree is 11\n"
     ]
    }
   ],
   "source": [
    "max(b)\n",
    "for i in scores:\n",
    "    if i[1]==max(b):\n",
    "        print (f\"Using polynomial regression and no splitting for train and test, the optimal degree is {i[0]}\") "
   ]
  },
  {
   "cell_type": "markdown",
   "metadata": {},
   "source": [
    "## Summary"
   ]
  },
  {
   "cell_type": "markdown",
   "metadata": {},
   "source": [
    "Great! You now know how to include polynomials in your linear model!"
   ]
  }
 ],
 "metadata": {
  "kernelspec": {
   "display_name": "Python 3",
   "language": "python",
   "name": "python3"
  }
 },
 "nbformat": 4,
 "nbformat_minor": 2
}
